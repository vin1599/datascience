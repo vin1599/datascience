{
 "cells": [
  {
   "cell_type": "markdown",
   "metadata": {},
   "source": [
    "# Q.1"
   ]
  },
  {
   "cell_type": "code",
   "execution_count": 2,
   "metadata": {},
   "outputs": [
    {
     "name": "stdout",
     "output_type": "stream",
     "text": [
      "Output:\n",
      " [ 2  5  8 11 14 17 20 23 26 29 32 35 38 41 44 47]\n"
     ]
    }
   ],
   "source": [
    "import numpy as np\n",
    "arr = np.arange(2,50,3)\n",
    "print(\"Output:\\n\",arr)"
   ]
  },
  {
   "cell_type": "markdown",
   "metadata": {},
   "source": [
    "# Q.2"
   ]
  },
  {
   "cell_type": "code",
   "execution_count": 12,
   "metadata": {},
   "outputs": [
    {
     "name": "stdout",
     "output_type": "stream",
     "text": [
      "Output:\n",
      " [ 2  3  4  5  6  7  8  9 11 17]\n"
     ]
    }
   ],
   "source": [
    "import numpy as np\n",
    "A = np.array([6,8,3,9,5])\n",
    "B = np.array([2,11,7,4,17])\n",
    "C = np.concatenate((A, B),axis=0)\n",
    "C = np.sort(C,axis=0)\n",
    "print(\"Output:\\n\",C)\n"
   ]
  },
  {
   "cell_type": "markdown",
   "metadata": {},
   "source": [
    "# Q.3"
   ]
  },
  {
   "cell_type": "code",
   "execution_count": 38,
   "metadata": {},
   "outputs": [
    {
     "name": "stdout",
     "output_type": "stream",
     "text": [
      "array:\n",
      " [[ 2  4  6]\n",
      " [ 8 10 12]\n",
      " [ 3  6  9]]\n",
      "dimentions: 2\n",
      "size: 9\n"
     ]
    }
   ],
   "source": [
    "import numpy as np\n",
    "a = np.array([[2,4,6],[8,10,12],[3,6,9]])\n",
    "print('array:\\n',a)\n",
    "print('dimentions:',a.ndim,)\n",
    "print('size:',a.size)\n"
   ]
  },
  {
   "cell_type": "markdown",
   "metadata": {},
   "source": [
    "# Q.4"
   ]
  },
  {
   "cell_type": "code",
   "execution_count": 86,
   "metadata": {},
   "outputs": [
    {
     "name": "stdout",
     "output_type": "stream",
     "text": [
      "[[1]\n",
      " [2]\n",
      " [3]\n",
      " [4]]\n",
      "True\n",
      "\n",
      "Reshape:\n",
      " [[1 2]\n",
      " [3 4]]\n"
     ]
    }
   ],
   "source": [
    "import numpy as np\n",
    "a = np.array([1,2,3,4])\n",
    "b= np.expand_dims(a, axis= (1))\n",
    "print(b)\n",
    "print(np.newaxis is None)\n",
    "print(\"\\nReshape:\\n\",a.reshape(2,2))"
   ]
  },
  {
   "cell_type": "markdown",
   "metadata": {},
   "source": [
    "# Q.5"
   ]
  },
  {
   "cell_type": "code",
   "execution_count": 97,
   "metadata": {},
   "outputs": [
    {
     "name": "stdout",
     "output_type": "stream",
     "text": [
      "square:\n",
      " [ 1  4  9 25 36 49 64]\n",
      "Vertical :\n",
      " [[ 1]\n",
      " [ 4]\n",
      " [ 9]\n",
      " [25]\n",
      " [36]\n",
      " [49]\n",
      " [64]]\n",
      "Horizontal : [ 1  4  9 25 36 49 64]\n"
     ]
    }
   ],
   "source": [
    "import numpy as np\n",
    "a = np.array([1,2,3,5,6,7,8])\n",
    "sqr = np.square(a)\n",
    "print(\"square:\\n\",sqr)\n",
    "print('Vertical :\\n', np.vstack((sqr)))\n",
    "print('Horizontal :', np.hstack((sqr)))"
   ]
  },
  {
   "cell_type": "markdown",
   "metadata": {},
   "source": [
    "# Q.6"
   ]
  },
  {
   "cell_type": "code",
   "execution_count": 105,
   "metadata": {},
   "outputs": [
    {
     "name": "stdout",
     "output_type": "stream",
     "text": [
      "No of unique items are: 7\n"
     ]
    }
   ],
   "source": [
    "list1 = [1, 2, 2, 5, 8, 4, 4, 8, 6, 7] \n",
    "l1 = [] \n",
    "  \n",
    "count = 0\n",
    "  \n",
    "for item in list1: \n",
    "    if item not in l1: \n",
    "        count += 1\n",
    "        l1.append(item) \n",
    "        \n",
    "print(\"No of unique items are:\", count) \n"
   ]
  }
 ],
 "metadata": {
  "kernelspec": {
   "display_name": "Python 3",
   "language": "python",
   "name": "python3"
  },
  "language_info": {
   "codemirror_mode": {
    "name": "ipython",
    "version": 3
   },
   "file_extension": ".py",
   "mimetype": "text/x-python",
   "name": "python",
   "nbconvert_exporter": "python",
   "pygments_lexer": "ipython3",
   "version": "3.8.3"
  }
 },
 "nbformat": 4,
 "nbformat_minor": 4
}
